{
 "cells": [
  {
   "cell_type": "code",
   "execution_count": 1,
   "metadata": {},
   "outputs": [],
   "source": [
    "import sqlite3\n",
    "\n",
    "import matplotlib.pyplot as plt\n",
    "import pandas as pd\n",
    "from sklearn.metrics import cohen_kappa_score"
   ]
  },
  {
   "cell_type": "code",
   "execution_count": 2,
   "metadata": {},
   "outputs": [],
   "source": [
    "SQLITE_DB = \"../results/db.db\"\n",
    "\n",
    "METRIC = cohen_kappa_score"
   ]
  },
  {
   "cell_type": "code",
   "execution_count": 3,
   "metadata": {},
   "outputs": [],
   "source": [
    "with sqlite3.connect(SQLITE_DB) as conn:\n",
    "    results_df = pd.read_sql(\"SELECT * FROM results\", conn)"
   ]
  },
  {
   "cell_type": "code",
   "execution_count": 4,
   "metadata": {},
   "outputs": [
    {
     "data": {
      "text/html": [
       "<div>\n",
       "<style scoped>\n",
       "    .dataframe tbody tr th:only-of-type {\n",
       "        vertical-align: middle;\n",
       "    }\n",
       "\n",
       "    .dataframe tbody tr th {\n",
       "        vertical-align: top;\n",
       "    }\n",
       "\n",
       "    .dataframe thead th {\n",
       "        text-align: right;\n",
       "    }\n",
       "</style>\n",
       "<table border=\"1\" class=\"dataframe\">\n",
       "  <thead>\n",
       "    <tr style=\"text-align: right;\">\n",
       "      <th></th>\n",
       "      <th>experiment_id</th>\n",
       "      <th>cross_validation_iteration</th>\n",
       "      <th>targets</th>\n",
       "      <th>predictions</th>\n",
       "      <th>id_code</th>\n",
       "    </tr>\n",
       "  </thead>\n",
       "  <tbody>\n",
       "    <tr>\n",
       "      <th>0</th>\n",
       "      <td>b4d91450-2736-4014-b46f-769b42a251d5</td>\n",
       "      <td>1</td>\n",
       "      <td>0</td>\n",
       "      <td>0</td>\n",
       "      <td>c6f5b5b5be41</td>\n",
       "    </tr>\n",
       "    <tr>\n",
       "      <th>1</th>\n",
       "      <td>b4d91450-2736-4014-b46f-769b42a251d5</td>\n",
       "      <td>1</td>\n",
       "      <td>0</td>\n",
       "      <td>0</td>\n",
       "      <td>d2cd47ed2c1d</td>\n",
       "    </tr>\n",
       "    <tr>\n",
       "      <th>2</th>\n",
       "      <td>b4d91450-2736-4014-b46f-769b42a251d5</td>\n",
       "      <td>1</td>\n",
       "      <td>0</td>\n",
       "      <td>0</td>\n",
       "      <td>5bea250d8bf5</td>\n",
       "    </tr>\n",
       "    <tr>\n",
       "      <th>3</th>\n",
       "      <td>b4d91450-2736-4014-b46f-769b42a251d5</td>\n",
       "      <td>1</td>\n",
       "      <td>2</td>\n",
       "      <td>2</td>\n",
       "      <td>09eeafa9656a</td>\n",
       "    </tr>\n",
       "    <tr>\n",
       "      <th>4</th>\n",
       "      <td>b4d91450-2736-4014-b46f-769b42a251d5</td>\n",
       "      <td>1</td>\n",
       "      <td>2</td>\n",
       "      <td>2</td>\n",
       "      <td>d29096bd94aa</td>\n",
       "    </tr>\n",
       "  </tbody>\n",
       "</table>\n",
       "</div>"
      ],
      "text/plain": [
       "                          experiment_id  cross_validation_iteration  targets  \\\n",
       "0  b4d91450-2736-4014-b46f-769b42a251d5                           1        0   \n",
       "1  b4d91450-2736-4014-b46f-769b42a251d5                           1        0   \n",
       "2  b4d91450-2736-4014-b46f-769b42a251d5                           1        0   \n",
       "3  b4d91450-2736-4014-b46f-769b42a251d5                           1        2   \n",
       "4  b4d91450-2736-4014-b46f-769b42a251d5                           1        2   \n",
       "\n",
       "   predictions       id_code  \n",
       "0            0  c6f5b5b5be41  \n",
       "1            0  d2cd47ed2c1d  \n",
       "2            0  5bea250d8bf5  \n",
       "3            2  09eeafa9656a  \n",
       "4            2  d29096bd94aa  "
      ]
     },
     "execution_count": 4,
     "metadata": {},
     "output_type": "execute_result"
    }
   ],
   "source": [
    "results_df.head()"
   ]
  },
  {
   "cell_type": "code",
   "execution_count": 7,
   "metadata": {},
   "outputs": [
    {
     "data": {
      "text/html": [
       "<div>\n",
       "<style scoped>\n",
       "    .dataframe tbody tr th:only-of-type {\n",
       "        vertical-align: middle;\n",
       "    }\n",
       "\n",
       "    .dataframe tbody tr th {\n",
       "        vertical-align: top;\n",
       "    }\n",
       "\n",
       "    .dataframe thead th {\n",
       "        text-align: right;\n",
       "    }\n",
       "</style>\n",
       "<table border=\"1\" class=\"dataframe\">\n",
       "  <thead>\n",
       "    <tr style=\"text-align: right;\">\n",
       "      <th></th>\n",
       "      <th>count</th>\n",
       "      <th>mean</th>\n",
       "      <th>std</th>\n",
       "      <th>min</th>\n",
       "      <th>25%</th>\n",
       "      <th>50%</th>\n",
       "      <th>75%</th>\n",
       "      <th>max</th>\n",
       "    </tr>\n",
       "    <tr>\n",
       "      <th>experiment_id</th>\n",
       "      <th></th>\n",
       "      <th></th>\n",
       "      <th></th>\n",
       "      <th></th>\n",
       "      <th></th>\n",
       "      <th></th>\n",
       "      <th></th>\n",
       "      <th></th>\n",
       "    </tr>\n",
       "  </thead>\n",
       "  <tbody>\n",
       "    <tr>\n",
       "      <th>0cc8a235-56e2-48eb-9597-5814438ba816</th>\n",
       "      <td>3.0</td>\n",
       "      <td>0.507347</td>\n",
       "      <td>0.011749</td>\n",
       "      <td>0.493835</td>\n",
       "      <td>0.503444</td>\n",
       "      <td>0.513054</td>\n",
       "      <td>0.514103</td>\n",
       "      <td>0.515152</td>\n",
       "    </tr>\n",
       "    <tr>\n",
       "      <th>b4d91450-2736-4014-b46f-769b42a251d5</th>\n",
       "      <td>3.0</td>\n",
       "      <td>0.536986</td>\n",
       "      <td>0.005124</td>\n",
       "      <td>0.532541</td>\n",
       "      <td>0.534184</td>\n",
       "      <td>0.535826</td>\n",
       "      <td>0.539209</td>\n",
       "      <td>0.542591</td>\n",
       "    </tr>\n",
       "  </tbody>\n",
       "</table>\n",
       "</div>"
      ],
      "text/plain": [
       "                                      count      mean       std       min  \\\n",
       "experiment_id                                                               \n",
       "0cc8a235-56e2-48eb-9597-5814438ba816    3.0  0.507347  0.011749  0.493835   \n",
       "b4d91450-2736-4014-b46f-769b42a251d5    3.0  0.536986  0.005124  0.532541   \n",
       "\n",
       "                                           25%       50%       75%       max  \n",
       "experiment_id                                                                 \n",
       "0cc8a235-56e2-48eb-9597-5814438ba816  0.503444  0.513054  0.514103  0.515152  \n",
       "b4d91450-2736-4014-b46f-769b42a251d5  0.534184  0.535826  0.539209  0.542591  "
      ]
     },
     "execution_count": 7,
     "metadata": {},
     "output_type": "execute_result"
    }
   ],
   "source": [
    "def calculate_metric(group, metric):\n",
    "    return metric(group[\"targets\"], group[\"predictions\"])\n",
    "\n",
    "metrics_df = results_df.groupby(by=[\"experiment_id\", \"cross_validation_iteration\"]).apply(calculate_metric, METRIC)\n",
    "metrics_df = metrics_df.groupby(by=\"experiment_id\").describe()\n",
    "metrics_df"
   ]
  },
  {
   "cell_type": "code",
   "execution_count": 8,
   "metadata": {},
   "outputs": [
    {
     "data": {
      "image/png": "[encoded data removed]",
      "text/plain": [
       "<Figure size 432x288 with 1 Axes>"
      ]
     },
     "metadata": {
      "needs_background": "light"
     },
     "output_type": "display_data"
    }
   ],
   "source": [
    "plt.barh(\n",
    "    width=metrics_df[\"mean\"],\n",
    "    y=metrics_df.index,\n",
    "    yerr=metrics_df[\"std\"],\n",
    "    alpha=0.5,\n",
    "    ecolor='black',\n",
    ")\n",
    "plt.title(f\"{METRIC.__name__}\")\n",
    "_ = plt.plot()"
   ]
  },
  {
   "cell_type": "code",
   "execution_count": null,
   "metadata": {},
   "outputs": [],
   "source": []
  }
 ],
 "metadata": {
  "kernelspec": {
   "display_name": "Python 3",
   "language": "python",
   "name": "python3"
  },
  "language_info": {
   "codemirror_mode": {
    "name": "ipython",
    "version": 3
   },
   "file_extension": ".py",
   "mimetype": "text/x-python",
   "name": "python",
   "nbconvert_exporter": "python",
   "pygments_lexer": "ipython3",
   "version": "3.6.4"
  }
 },
 "nbformat": 4,
 "nbformat_minor": 2
}
